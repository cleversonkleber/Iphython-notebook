{
 "cells": [
  {
   "cell_type": "code",
   "execution_count": 113,
   "metadata": {
    "collapsed": true
   },
   "outputs": [],
   "source": [
    "from pymssql import *\n",
    "import pandas as pd \n",
    "\n",
    "import matplotlib.pyplot as pl\n",
    "class CONECT_BD:\n",
    "    def __init__(self):\n",
    "       # print('Fabrica de conexao!')\n",
    "        self.host = ''\n",
    "        self.user = ''\n",
    "        self.password = ''\n",
    "        self.database = ''\n",
    "\n",
    "    def MTCCON(self):\n",
    "        self.host = 'BRSAOWSSQLV021.votorantim.grupo:65421'\n",
    "        self.database  = 'REL-MULTICANAL'\n",
    "        self.user = 'rel_multicanal'\n",
    "        self.password  = 'Rel_@multicanal'\n",
    "        self.con_rel = connect(self.host, self.user, self.password, self.database)\n",
    "        self.cur_rel = self.con_rel.cursor()\n",
    "        #print(\"Conectando ao Banco Rel.....\")\n",
    "        return self.cur_rel, self.con_rel\n",
    "bd = CONECT_BD()\n",
    "cur, con = bd.MTCCON()"
   ]
  },
  {
   "cell_type": "code",
   "execution_count": 114,
   "metadata": {
    "collapsed": true
   },
   "outputs": [],
   "source": [
    "lista_status = []\n",
    "cur.execute('''select \n",
    "                            data, \n",
    "                            Codigo, \n",
    "                            Pedido_em_tela, \n",
    "                            BLOQUEADO,\n",
    "                            Score,\n",
    "                            TITULOS_EM_ABERTO,\n",
    "                            REGIONAL,\n",
    "                            [Micro Região],\n",
    "                            [Meso Região], \n",
    "                            Estado, \n",
    "                            Fraude, \n",
    "                            Black_list, \n",
    "                            Vendedor, \n",
    "                            Coordenador, \n",
    "                            Mes_ultima_compra, \n",
    "                            P_Perfil  \n",
    "                            from tbl_Mailing_inteligente_dia \n",
    "                            where data > '2017-12-18' ''')\n",
    "for data in cur:\n",
    "    lista_status.append(data)\n",
    "    #print(data)\n",
    "\n",
    "\n",
    "\n",
    "\n",
    "\n"
   ]
  },
  {
   "cell_type": "code",
   "execution_count": 3,
   "metadata": {
    "collapsed": true
   },
   "outputs": [],
   "source": [
    "\n",
    "listaN = []\n",
    "listaT = []\n",
    "listaN = ['data',\n",
    "          'Codigo',\n",
    "          'Pedido_em_tela',\n",
    "          'BLOQUEADO',\n",
    "          'Score',\n",
    "          'TITULOS_EM_ABERTO',\n",
    "          'REGIONAL',\n",
    "          'Micro_Regiao',\n",
    "          'Meso_Regiao',\n",
    "          'Estado',\n",
    "          'Fraude',\n",
    "          'Black_list',\n",
    "          'Vendedor',\n",
    "          'Coordenador',\n",
    "          'Mes_ultima_compra',\n",
    "          'P_Perfil' ]\n",
    "\n"
   ]
  },
  {
   "cell_type": "code",
   "execution_count": 115,
   "metadata": {
    "collapsed": true
   },
   "outputs": [],
   "source": [
    "lista = []\n",
    "dicionario = {}\n",
    "for row in lista_status:\n",
    "    dicionario = {\n",
    "            \n",
    "                            'data':row[0], \n",
    "                            'Codigo':int(row[1]), \n",
    "                            'Pedido_em_tela':row[2], \n",
    "                            'BLOQUEADO':row[3],\n",
    "                            'Score' : row[4],\n",
    "                            'TITULOS_EM_ABERTO' :row[5],\n",
    "                            'REGIONAL' :row[6],\n",
    "                            'Micro_Regiao' :row[7],\n",
    "                            'Meso_Regiao' :row[8], \n",
    "                            'Estado' :row[9], \n",
    "                            'Fraude' :row[10], \n",
    "                            'Black_list' :row[11], \n",
    "                            'Vendedor': row[12], \n",
    "                            'Coordenador':row[13], \n",
    "                            'Mes_ultima_compra' :row[14], \n",
    "                            'P_Perfil':row[15]  \n",
    "                            }\n",
    "    lista.append(dicionario)"
   ]
  },
  {
   "cell_type": "code",
   "execution_count": 116,
   "metadata": {},
   "outputs": [
    {
     "name": "stdout",
     "output_type": "stream",
     "text": [
      "Data 2017-12-19 Total :3531\n",
      "Data 2017-12-20 Total :1182\n",
      "              total :  4713\n",
      "              Media :  2356\n"
     ]
    }
   ],
   "source": [
    "listatotal = []\n",
    "cont = 0\n",
    "data = ''\n",
    "data1= ''\n",
    "cont1 = 0\n",
    "v1 = ''\n",
    "vardata =''\n",
    "v = str(lista[0]['data'])\n",
    "\n",
    "for i in range(len(lista)):\n",
    "    v1 = str(lista[i]['data'])\n",
    "    #print(v)\n",
    "    if  lista[i]['BLOQUEADO'] == 'SIM':\n",
    "        if v1 != v:\n",
    "            data1 = lista[i]['data']\n",
    "            #print(data1)\n",
    "            cont = cont +1\n",
    "        elif v1 == v:\n",
    "            data = lista[i]['data']\n",
    "            cont1 = cont1 +1\n",
    "            #break\n",
    "\n",
    "total = (cont + cont1)    \n",
    "media = (cont + cont1)/2    \n",
    "print('Data ' +  str(data) + ' Total :' + str(cont))\n",
    "print('Data ' +  str(data1) + ' Total :' + str(cont1))\n",
    "print('              total : ', total)\n",
    "print('              Media : ', int(media))\n",
    "\n"
   ]
  },
  {
   "cell_type": "code",
   "execution_count": 115,
   "metadata": {},
   "outputs": [
    {
     "name": "stdout",
     "output_type": "stream",
     "text": [
      "\n"
     ]
    }
   ],
   "source": [
    "bl = 0\n",
    "codigo = ''\n",
    "lista1 = ()\n",
    "codigo1 = ''\n",
    "cod = 0\n",
    "for i in range(len(lista)):\n",
    "    for j in range(len(lista)):\n",
    "        if lista[i]['Codigo'] == lista[j]['Codigo'] and lista[i]['BLOQUEADO']== 'SIM':\n",
    "            codigo = lista[i]['Codigo']\n",
    "            data = lista[i]['data']\n",
    "            \n",
    "            bl = bl + 1\n",
    "            print(str(codigo) + ' Total :' + str(bl))\n",
    "    if bl != 0:\n",
    "        lista1 =  [('codigo', codigo),('data', data),('Bloqueado SIM', bl)]\n",
    "        #print(lista1)\n",
    "        print(str(codigo) + ' Total :' + str(bl))\n",
    "        #break\n"
   ]
  },
  {
   "cell_type": "code",
   "execution_count": 82,
   "metadata": {},
   "outputs": [
    {
     "data": {
      "text/plain": [
       "{'BLOQUEADO': 'NAO',\n",
       " 'Black_list': 'NAO',\n",
       " 'Codigo': 1060907,\n",
       " 'Coordenador': 'LUCIANO VIEIRA',\n",
       " 'Estado': 'SP',\n",
       " 'Fraude': 'NAO',\n",
       " 'Mes_ultima_compra': 'Compra_6M                                         ',\n",
       " 'Meso_Regiao': 'VC-SP-RIBEIRAO PRETO',\n",
       " 'Micro_Regiao': 'VC-JABOTICABAL',\n",
       " 'P_Perfil': 'Fortaleza VC P',\n",
       " 'Pedido_em_tela': 'NAO',\n",
       " 'REGIONAL': 'SE',\n",
       " 'Score': 77.0,\n",
       " 'TITULOS_EM_ABERTO': 'NAO',\n",
       " 'Vendedor': 'MATHEUS GUEDES DOS SANTOS',\n",
       " 'data': '2017-12-19'}"
      ]
     },
     "execution_count": 82,
     "metadata": {},
     "output_type": "execute_result"
    }
   ],
   "source": [
    "dicionario"
   ]
  },
  {
   "cell_type": "code",
   "execution_count": 117,
   "metadata": {
    "collapsed": true
   },
   "outputs": [],
   "source": [
    "class Status_Cliente:\n",
    "    def __init__(self, columns=None):\n",
    "        self.columns = columns\n",
    "        self.rows = []\n",
    "        \n",
    "    def __repr__(self):\n",
    "        return str(self.columns) + \"\\n\" + \"\\n\".join(map(str, self.rows))\n",
    "    \n",
    "    def select(self, keelp_columns=None, additional_coluns=None):\n",
    "        if keelp_columns == None:\n",
    "            additional_coluns = self.columns\n",
    "        if additional_coluns == None:\n",
    "            additional_coluns = {}\n",
    "        result_table = Status_Cliente(keelp_columns + additional_coluns.keys())\n",
    "        \n",
    "        for linha in self.rows:\n",
    "            new_row = [row[column] for column in keelp_columns]\n",
    "            for column_name, calculation in additional_coluns.interitems():\n",
    "                new_row.append(calculation(row))\n",
    "            #result_table.insert(new_row)\n",
    "        return result_table\n",
    "\n",
    "    \n",
    "\n",
    "    "
   ]
  },
  {
   "cell_type": "code",
   "execution_count": 119,
   "metadata": {},
   "outputs": [
    {
     "data": {
      "text/plain": [
       "{'BLOQUEADO': 'NAO',\n",
       " 'Black_list': 'NAO',\n",
       " 'Codigo': 1048369,\n",
       " 'Coordenador': 'GABRIEL MELO AZEVEDO CRUZ',\n",
       " 'Estado': 'SP',\n",
       " 'Fraude': 'NAO',\n",
       " 'Mes_ultima_compra': 'Compra_6M                                         ',\n",
       " 'Meso_Regiao': 'VC-SP-METROPOLITA DE',\n",
       " 'Micro_Regiao': 'VC-OSASCO',\n",
       " 'P_Perfil': 'Fortaleza Concorrente G',\n",
       " 'Pedido_em_tela': 'NAO',\n",
       " 'REGIONAL': 'SE',\n",
       " 'Score': 54.0,\n",
       " 'TITULOS_EM_ABERTO': 'NAO',\n",
       " 'Vendedor': 'MAICON MESSIAS DA SILVA',\n",
       " 'data': '2017-12-19'}"
      ]
     },
     "execution_count": 119,
     "metadata": {},
     "output_type": "execute_result"
    }
   ],
   "source": [
    "dicionario"
   ]
  },
  {
   "cell_type": "code",
   "execution_count": 138,
   "metadata": {},
   "outputs": [],
   "source": [
    "from collections import defaultdict\n",
    "\n",
    "by_datas = defaultdict(list)\n",
    "for row in lista:\n",
    "    by_datas[row['data']].append(row)\n",
    "    \n",
    "max_score = {\n",
    "    score : max(row['Score'] for row in groupd_row) for score, groupd_row in by_datas.items()\n",
    "    \n",
    "}\n",
    "    "
   ]
  },
  {
   "cell_type": "code",
   "execution_count": 139,
   "metadata": {},
   "outputs": [
    {
     "data": {
      "text/plain": [
       "{'2017-12-19': 92.0,\n",
       " '2017-12-20': 92.0,\n",
       " '2017-12-21': 92.0,\n",
       " '2017-12-22': 90.0}"
      ]
     },
     "execution_count": 139,
     "metadata": {},
     "output_type": "execute_result"
    }
   ],
   "source": [
    "max_score"
   ]
  }
 ],
 "metadata": {
  "kernelspec": {
   "display_name": "Python 3",
   "language": "python",
   "name": "python3"
  },
  "language_info": {
   "codemirror_mode": {
    "name": "ipython",
    "version": 3
   },
   "file_extension": ".py",
   "mimetype": "text/x-python",
   "name": "python",
   "nbconvert_exporter": "python",
   "pygments_lexer": "ipython3",
   "version": "3.6.1"
  },
  "widgets": {
   "application/vnd.jupyter.widget-state+json": {
    "state": {},
    "version_major": 1,
    "version_minor": 0
   }
  }
 },
 "nbformat": 4,
 "nbformat_minor": 2
}
